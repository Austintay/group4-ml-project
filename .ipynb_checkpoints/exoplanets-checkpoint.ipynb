{
 "cells": [
  {
   "cell_type": "markdown",
   "metadata": {
    "colab_type": "text",
    "id": "8fQRVKuLUxnK"
   },
   "source": [
    "# Can we Determine the Position of an ExoPlanet?\n"
   ]
  },
  {
   "cell_type": "code",
   "execution_count": 1,
   "metadata": {
    "colab": {},
    "colab_type": "code",
    "id": "4ufNF9dvUxnQ"
   },
   "outputs": [],
   "source": [
    "import pandas as pd\n",
    "import numpy as np\n",
    "import matplotlib.pyplot as plt\n",
    "import seaborn as sns\n",
    "import pydotplus\n",
    "import io\n",
    "from scipy import misc\n",
    "from IPython.display import Image\n",
    "\n",
    "from sklearn.ensemble import RandomForestRegressor, RandomForestClassifier\n",
    "from sklearn.model_selection import train_test_split\n",
    "from sklearn import tree, metrics, preprocessing\n",
    "from sklearn.metrics import accuracy_score, confusion_matrix, r2_score, mean_squared_error\n",
    "from sklearn.tree import export_graphviz\n",
    "from sklearn.naive_bayes import MultinomialNB\n",
    "from sklearn.feature_extraction.text import CountVectorizer\n",
    "from sklearn.externals.six import StringIO\n",
    "from sklearn.linear_model import LogisticRegression\n",
    "\n",
    "from sklearn.tree import export_graphviz"
   ]
  },
  {
   "cell_type": "markdown",
   "metadata": {
    "colab_type": "text",
    "id": "049g8c-jcKZs"
   },
   "source": [
    "## Find and View Data:"
   ]
  },
  {
   "cell_type": "markdown",
   "metadata": {
    "colab_type": "text",
    "id": "udd52GhoUxnq"
   },
   "source": [
    "Data: NASA Kepler Objects of Interest Data Set\n",
    " \n",
    "A Kepler object of interest (KOI) is a star observed by the Kepler space telescope that is suspected of hosting one or more transiting planets"
   ]
  },
  {
   "cell_type": "code",
   "execution_count": 2,
   "metadata": {
    "colab": {
     "base_uri": "https://localhost:8080/",
     "height": 224
    },
    "colab_type": "code",
    "id": "Vzbvoj_JUxnu",
    "outputId": "fac07cc7-1230-4bcd-e82a-52e1407c8b33"
   },
   "outputs": [
    {
     "data": {
      "text/html": [
       "<div>\n",
       "<style scoped>\n",
       "    .dataframe tbody tr th:only-of-type {\n",
       "        vertical-align: middle;\n",
       "    }\n",
       "\n",
       "    .dataframe tbody tr th {\n",
       "        vertical-align: top;\n",
       "    }\n",
       "\n",
       "    .dataframe thead th {\n",
       "        text-align: right;\n",
       "    }\n",
       "</style>\n",
       "<table border=\"1\" class=\"dataframe\">\n",
       "  <thead>\n",
       "    <tr style=\"text-align: right;\">\n",
       "      <th></th>\n",
       "      <th>kepid</th>\n",
       "      <th>kepoi_name</th>\n",
       "      <th>kepler_name</th>\n",
       "      <th>koi_disposition</th>\n",
       "      <th>koi_pdisposition</th>\n",
       "      <th>koi_score</th>\n",
       "      <th>koi_fpflag_nt</th>\n",
       "      <th>koi_fpflag_ss</th>\n",
       "      <th>koi_fpflag_co</th>\n",
       "      <th>koi_fpflag_ec</th>\n",
       "      <th>...</th>\n",
       "      <th>koi_steff_err2</th>\n",
       "      <th>koi_slogg</th>\n",
       "      <th>koi_slogg_err1</th>\n",
       "      <th>koi_slogg_err2</th>\n",
       "      <th>koi_srad</th>\n",
       "      <th>koi_srad_err1</th>\n",
       "      <th>koi_srad_err2</th>\n",
       "      <th>ra</th>\n",
       "      <th>dec</th>\n",
       "      <th>koi_kepmag</th>\n",
       "    </tr>\n",
       "  </thead>\n",
       "  <tbody>\n",
       "    <tr>\n",
       "      <th>0</th>\n",
       "      <td>10797460</td>\n",
       "      <td>K00752.01</td>\n",
       "      <td>Kepler-227 b</td>\n",
       "      <td>CONFIRMED</td>\n",
       "      <td>CANDIDATE</td>\n",
       "      <td>1.000</td>\n",
       "      <td>0</td>\n",
       "      <td>0</td>\n",
       "      <td>0</td>\n",
       "      <td>0</td>\n",
       "      <td>...</td>\n",
       "      <td>-81.0</td>\n",
       "      <td>4.467</td>\n",
       "      <td>0.064</td>\n",
       "      <td>-0.096</td>\n",
       "      <td>0.927</td>\n",
       "      <td>0.105</td>\n",
       "      <td>-0.061</td>\n",
       "      <td>291.93423</td>\n",
       "      <td>48.141651</td>\n",
       "      <td>15.347</td>\n",
       "    </tr>\n",
       "    <tr>\n",
       "      <th>1</th>\n",
       "      <td>10797460</td>\n",
       "      <td>K00752.02</td>\n",
       "      <td>Kepler-227 c</td>\n",
       "      <td>CONFIRMED</td>\n",
       "      <td>CANDIDATE</td>\n",
       "      <td>0.969</td>\n",
       "      <td>0</td>\n",
       "      <td>0</td>\n",
       "      <td>0</td>\n",
       "      <td>0</td>\n",
       "      <td>...</td>\n",
       "      <td>-81.0</td>\n",
       "      <td>4.467</td>\n",
       "      <td>0.064</td>\n",
       "      <td>-0.096</td>\n",
       "      <td>0.927</td>\n",
       "      <td>0.105</td>\n",
       "      <td>-0.061</td>\n",
       "      <td>291.93423</td>\n",
       "      <td>48.141651</td>\n",
       "      <td>15.347</td>\n",
       "    </tr>\n",
       "    <tr>\n",
       "      <th>2</th>\n",
       "      <td>10811496</td>\n",
       "      <td>K00753.01</td>\n",
       "      <td>NaN</td>\n",
       "      <td>CANDIDATE</td>\n",
       "      <td>CANDIDATE</td>\n",
       "      <td>0.000</td>\n",
       "      <td>0</td>\n",
       "      <td>0</td>\n",
       "      <td>0</td>\n",
       "      <td>0</td>\n",
       "      <td>...</td>\n",
       "      <td>-176.0</td>\n",
       "      <td>4.544</td>\n",
       "      <td>0.044</td>\n",
       "      <td>-0.176</td>\n",
       "      <td>0.868</td>\n",
       "      <td>0.233</td>\n",
       "      <td>-0.078</td>\n",
       "      <td>297.00482</td>\n",
       "      <td>48.134129</td>\n",
       "      <td>15.436</td>\n",
       "    </tr>\n",
       "    <tr>\n",
       "      <th>3</th>\n",
       "      <td>10848459</td>\n",
       "      <td>K00754.01</td>\n",
       "      <td>NaN</td>\n",
       "      <td>FALSE POSITIVE</td>\n",
       "      <td>FALSE POSITIVE</td>\n",
       "      <td>0.000</td>\n",
       "      <td>0</td>\n",
       "      <td>1</td>\n",
       "      <td>0</td>\n",
       "      <td>0</td>\n",
       "      <td>...</td>\n",
       "      <td>-174.0</td>\n",
       "      <td>4.564</td>\n",
       "      <td>0.053</td>\n",
       "      <td>-0.168</td>\n",
       "      <td>0.791</td>\n",
       "      <td>0.201</td>\n",
       "      <td>-0.067</td>\n",
       "      <td>285.53461</td>\n",
       "      <td>48.285210</td>\n",
       "      <td>15.597</td>\n",
       "    </tr>\n",
       "    <tr>\n",
       "      <th>4</th>\n",
       "      <td>10854555</td>\n",
       "      <td>K00755.01</td>\n",
       "      <td>Kepler-664 b</td>\n",
       "      <td>CONFIRMED</td>\n",
       "      <td>CANDIDATE</td>\n",
       "      <td>1.000</td>\n",
       "      <td>0</td>\n",
       "      <td>0</td>\n",
       "      <td>0</td>\n",
       "      <td>0</td>\n",
       "      <td>...</td>\n",
       "      <td>-211.0</td>\n",
       "      <td>4.438</td>\n",
       "      <td>0.070</td>\n",
       "      <td>-0.210</td>\n",
       "      <td>1.046</td>\n",
       "      <td>0.334</td>\n",
       "      <td>-0.133</td>\n",
       "      <td>288.75488</td>\n",
       "      <td>48.226200</td>\n",
       "      <td>15.509</td>\n",
       "    </tr>\n",
       "  </tbody>\n",
       "</table>\n",
       "<p>5 rows × 49 columns</p>\n",
       "</div>"
      ],
      "text/plain": [
       "      kepid kepoi_name   kepler_name koi_disposition koi_pdisposition  \\\n",
       "0  10797460  K00752.01  Kepler-227 b       CONFIRMED        CANDIDATE   \n",
       "1  10797460  K00752.02  Kepler-227 c       CONFIRMED        CANDIDATE   \n",
       "2  10811496  K00753.01           NaN       CANDIDATE        CANDIDATE   \n",
       "3  10848459  K00754.01           NaN  FALSE POSITIVE   FALSE POSITIVE   \n",
       "4  10854555  K00755.01  Kepler-664 b       CONFIRMED        CANDIDATE   \n",
       "\n",
       "   koi_score  koi_fpflag_nt  koi_fpflag_ss  koi_fpflag_co  koi_fpflag_ec  \\\n",
       "0      1.000              0              0              0              0   \n",
       "1      0.969              0              0              0              0   \n",
       "2      0.000              0              0              0              0   \n",
       "3      0.000              0              1              0              0   \n",
       "4      1.000              0              0              0              0   \n",
       "\n",
       "      ...      koi_steff_err2  koi_slogg  koi_slogg_err1  koi_slogg_err2  \\\n",
       "0     ...               -81.0      4.467           0.064          -0.096   \n",
       "1     ...               -81.0      4.467           0.064          -0.096   \n",
       "2     ...              -176.0      4.544           0.044          -0.176   \n",
       "3     ...              -174.0      4.564           0.053          -0.168   \n",
       "4     ...              -211.0      4.438           0.070          -0.210   \n",
       "\n",
       "   koi_srad  koi_srad_err1  koi_srad_err2         ra        dec  koi_kepmag  \n",
       "0     0.927          0.105         -0.061  291.93423  48.141651      15.347  \n",
       "1     0.927          0.105         -0.061  291.93423  48.141651      15.347  \n",
       "2     0.868          0.233         -0.078  297.00482  48.134129      15.436  \n",
       "3     0.791          0.201         -0.067  285.53461  48.285210      15.597  \n",
       "4     1.046          0.334         -0.133  288.75488  48.226200      15.509  \n",
       "\n",
       "[5 rows x 49 columns]"
      ]
     },
     "execution_count": 2,
     "metadata": {},
     "output_type": "execute_result"
    }
   ],
   "source": [
    "#load data\n",
    "data = pd.read_csv('cumulative_2020.07.07_13.36.50.csv')\n",
    "data.head()"
   ]
  },
  {
   "cell_type": "code",
   "execution_count": 3,
   "metadata": {
    "colab": {
     "base_uri": "https://localhost:8080/",
     "height": 969
    },
    "colab_type": "code",
    "id": "hkrFOcPyUxn8",
    "outputId": "870177b6-1ee3-41f9-97a3-f5ee303d3c73"
   },
   "outputs": [
    {
     "name": "stdout",
     "output_type": "stream",
     "text": [
      "<class 'pandas.core.frame.DataFrame'>\n",
      "RangeIndex: 9564 entries, 0 to 9563\n",
      "Data columns (total 49 columns):\n",
      "kepid                9564 non-null int64\n",
      "kepoi_name           9564 non-null object\n",
      "kepler_name          2308 non-null object\n",
      "koi_disposition      9564 non-null object\n",
      "koi_pdisposition     9564 non-null object\n",
      "koi_score            8054 non-null float64\n",
      "koi_fpflag_nt        9564 non-null int64\n",
      "koi_fpflag_ss        9564 non-null int64\n",
      "koi_fpflag_co        9564 non-null int64\n",
      "koi_fpflag_ec        9564 non-null int64\n",
      "koi_period           9564 non-null float64\n",
      "koi_period_err1      9110 non-null float64\n",
      "koi_period_err2      9110 non-null float64\n",
      "koi_time0bk          9564 non-null float64\n",
      "koi_time0bk_err1     9110 non-null float64\n",
      "koi_time0bk_err2     9110 non-null float64\n",
      "koi_impact           9201 non-null float64\n",
      "koi_impact_err1      9110 non-null float64\n",
      "koi_impact_err2      9110 non-null float64\n",
      "koi_duration         9564 non-null float64\n",
      "koi_duration_err1    9110 non-null float64\n",
      "koi_duration_err2    9110 non-null float64\n",
      "koi_depth            9201 non-null float64\n",
      "koi_depth_err1       9110 non-null float64\n",
      "koi_depth_err2       9110 non-null float64\n",
      "koi_prad             9201 non-null float64\n",
      "koi_prad_err1        9201 non-null float64\n",
      "koi_prad_err2        9201 non-null float64\n",
      "koi_teq              9201 non-null float64\n",
      "koi_teq_err1         0 non-null float64\n",
      "koi_teq_err2         0 non-null float64\n",
      "koi_insol            9243 non-null float64\n",
      "koi_insol_err1       9243 non-null float64\n",
      "koi_insol_err2       9243 non-null float64\n",
      "koi_model_snr        9201 non-null float64\n",
      "koi_tce_plnt_num     9218 non-null float64\n",
      "koi_tce_delivname    9218 non-null object\n",
      "koi_steff            9201 non-null float64\n",
      "koi_steff_err1       9096 non-null float64\n",
      "koi_steff_err2       9081 non-null float64\n",
      "koi_slogg            9201 non-null float64\n",
      "koi_slogg_err1       9096 non-null float64\n",
      "koi_slogg_err2       9096 non-null float64\n",
      "koi_srad             9201 non-null float64\n",
      "koi_srad_err1        9096 non-null float64\n",
      "koi_srad_err2        9096 non-null float64\n",
      "ra                   9564 non-null float64\n",
      "dec                  9564 non-null float64\n",
      "koi_kepmag           9563 non-null float64\n",
      "dtypes: float64(39), int64(5), object(5)\n",
      "memory usage: 3.6+ MB\n"
     ]
    }
   ],
   "source": [
    "data.info()"
   ]
  },
  {
   "cell_type": "markdown",
   "metadata": {
    "colab_type": "text",
    "id": "lFOqRRf5caxT"
   },
   "source": [
    "##Wrangle Data"
   ]
  },
  {
   "cell_type": "code",
   "execution_count": 4,
   "metadata": {
    "colab": {
     "base_uri": "https://localhost:8080/",
     "height": 241
    },
    "colab_type": "code",
    "id": "g9sO2o1aUxoE",
    "outputId": "19dd3694-9f17-491d-c47c-d7023b7eb144"
   },
   "outputs": [
    {
     "data": {
      "text/html": [
       "<div>\n",
       "<style scoped>\n",
       "    .dataframe tbody tr th:only-of-type {\n",
       "        vertical-align: middle;\n",
       "    }\n",
       "\n",
       "    .dataframe tbody tr th {\n",
       "        vertical-align: top;\n",
       "    }\n",
       "\n",
       "    .dataframe thead th {\n",
       "        text-align: right;\n",
       "    }\n",
       "</style>\n",
       "<table border=\"1\" class=\"dataframe\">\n",
       "  <thead>\n",
       "    <tr style=\"text-align: right;\">\n",
       "      <th></th>\n",
       "      <th>kepid</th>\n",
       "      <th>kepoi_name</th>\n",
       "      <th>kepler_name</th>\n",
       "      <th>koi_pdisposition</th>\n",
       "      <th>koi_score</th>\n",
       "      <th>koi_fpflag_nt</th>\n",
       "      <th>koi_fpflag_ss</th>\n",
       "      <th>koi_fpflag_co</th>\n",
       "      <th>koi_fpflag_ec</th>\n",
       "      <th>koi_period</th>\n",
       "      <th>...</th>\n",
       "      <th>koi_slogg_err2</th>\n",
       "      <th>koi_srad</th>\n",
       "      <th>koi_srad_err1</th>\n",
       "      <th>koi_srad_err2</th>\n",
       "      <th>ra</th>\n",
       "      <th>dec</th>\n",
       "      <th>koi_kepmag</th>\n",
       "      <th>Candidate</th>\n",
       "      <th>Confirmed</th>\n",
       "      <th>koi_disposition_FALSE POSITIVE</th>\n",
       "    </tr>\n",
       "  </thead>\n",
       "  <tbody>\n",
       "    <tr>\n",
       "      <th>0</th>\n",
       "      <td>10797460</td>\n",
       "      <td>K00752.01</td>\n",
       "      <td>Kepler-227 b</td>\n",
       "      <td>CANDIDATE</td>\n",
       "      <td>1.000</td>\n",
       "      <td>0</td>\n",
       "      <td>0</td>\n",
       "      <td>0</td>\n",
       "      <td>0</td>\n",
       "      <td>9.488036</td>\n",
       "      <td>...</td>\n",
       "      <td>-0.096</td>\n",
       "      <td>0.927</td>\n",
       "      <td>0.105</td>\n",
       "      <td>-0.061</td>\n",
       "      <td>291.93423</td>\n",
       "      <td>48.141651</td>\n",
       "      <td>15.347</td>\n",
       "      <td>0</td>\n",
       "      <td>1</td>\n",
       "      <td>0</td>\n",
       "    </tr>\n",
       "    <tr>\n",
       "      <th>1</th>\n",
       "      <td>10797460</td>\n",
       "      <td>K00752.02</td>\n",
       "      <td>Kepler-227 c</td>\n",
       "      <td>CANDIDATE</td>\n",
       "      <td>0.969</td>\n",
       "      <td>0</td>\n",
       "      <td>0</td>\n",
       "      <td>0</td>\n",
       "      <td>0</td>\n",
       "      <td>54.418383</td>\n",
       "      <td>...</td>\n",
       "      <td>-0.096</td>\n",
       "      <td>0.927</td>\n",
       "      <td>0.105</td>\n",
       "      <td>-0.061</td>\n",
       "      <td>291.93423</td>\n",
       "      <td>48.141651</td>\n",
       "      <td>15.347</td>\n",
       "      <td>0</td>\n",
       "      <td>1</td>\n",
       "      <td>0</td>\n",
       "    </tr>\n",
       "    <tr>\n",
       "      <th>2</th>\n",
       "      <td>10811496</td>\n",
       "      <td>K00753.01</td>\n",
       "      <td>NaN</td>\n",
       "      <td>CANDIDATE</td>\n",
       "      <td>0.000</td>\n",
       "      <td>0</td>\n",
       "      <td>0</td>\n",
       "      <td>0</td>\n",
       "      <td>0</td>\n",
       "      <td>19.899140</td>\n",
       "      <td>...</td>\n",
       "      <td>-0.176</td>\n",
       "      <td>0.868</td>\n",
       "      <td>0.233</td>\n",
       "      <td>-0.078</td>\n",
       "      <td>297.00482</td>\n",
       "      <td>48.134129</td>\n",
       "      <td>15.436</td>\n",
       "      <td>1</td>\n",
       "      <td>0</td>\n",
       "      <td>0</td>\n",
       "    </tr>\n",
       "    <tr>\n",
       "      <th>3</th>\n",
       "      <td>10848459</td>\n",
       "      <td>K00754.01</td>\n",
       "      <td>NaN</td>\n",
       "      <td>FALSE POSITIVE</td>\n",
       "      <td>0.000</td>\n",
       "      <td>0</td>\n",
       "      <td>1</td>\n",
       "      <td>0</td>\n",
       "      <td>0</td>\n",
       "      <td>1.736952</td>\n",
       "      <td>...</td>\n",
       "      <td>-0.168</td>\n",
       "      <td>0.791</td>\n",
       "      <td>0.201</td>\n",
       "      <td>-0.067</td>\n",
       "      <td>285.53461</td>\n",
       "      <td>48.285210</td>\n",
       "      <td>15.597</td>\n",
       "      <td>0</td>\n",
       "      <td>0</td>\n",
       "      <td>1</td>\n",
       "    </tr>\n",
       "    <tr>\n",
       "      <th>4</th>\n",
       "      <td>10854555</td>\n",
       "      <td>K00755.01</td>\n",
       "      <td>Kepler-664 b</td>\n",
       "      <td>CANDIDATE</td>\n",
       "      <td>1.000</td>\n",
       "      <td>0</td>\n",
       "      <td>0</td>\n",
       "      <td>0</td>\n",
       "      <td>0</td>\n",
       "      <td>2.525592</td>\n",
       "      <td>...</td>\n",
       "      <td>-0.210</td>\n",
       "      <td>1.046</td>\n",
       "      <td>0.334</td>\n",
       "      <td>-0.133</td>\n",
       "      <td>288.75488</td>\n",
       "      <td>48.226200</td>\n",
       "      <td>15.509</td>\n",
       "      <td>0</td>\n",
       "      <td>1</td>\n",
       "      <td>0</td>\n",
       "    </tr>\n",
       "  </tbody>\n",
       "</table>\n",
       "<p>5 rows × 51 columns</p>\n",
       "</div>"
      ],
      "text/plain": [
       "      kepid kepoi_name   kepler_name koi_pdisposition  koi_score  \\\n",
       "0  10797460  K00752.01  Kepler-227 b        CANDIDATE      1.000   \n",
       "1  10797460  K00752.02  Kepler-227 c        CANDIDATE      0.969   \n",
       "2  10811496  K00753.01           NaN        CANDIDATE      0.000   \n",
       "3  10848459  K00754.01           NaN   FALSE POSITIVE      0.000   \n",
       "4  10854555  K00755.01  Kepler-664 b        CANDIDATE      1.000   \n",
       "\n",
       "   koi_fpflag_nt  koi_fpflag_ss  koi_fpflag_co  koi_fpflag_ec  koi_period  \\\n",
       "0              0              0              0              0    9.488036   \n",
       "1              0              0              0              0   54.418383   \n",
       "2              0              0              0              0   19.899140   \n",
       "3              0              1              0              0    1.736952   \n",
       "4              0              0              0              0    2.525592   \n",
       "\n",
       "                ...                koi_slogg_err2  koi_srad  koi_srad_err1  \\\n",
       "0               ...                        -0.096     0.927          0.105   \n",
       "1               ...                        -0.096     0.927          0.105   \n",
       "2               ...                        -0.176     0.868          0.233   \n",
       "3               ...                        -0.168     0.791          0.201   \n",
       "4               ...                        -0.210     1.046          0.334   \n",
       "\n",
       "   koi_srad_err2         ra        dec  koi_kepmag  Candidate  Confirmed  \\\n",
       "0         -0.061  291.93423  48.141651      15.347          0          1   \n",
       "1         -0.061  291.93423  48.141651      15.347          0          1   \n",
       "2         -0.078  297.00482  48.134129      15.436          1          0   \n",
       "3         -0.067  285.53461  48.285210      15.597          0          0   \n",
       "4         -0.133  288.75488  48.226200      15.509          0          1   \n",
       "\n",
       "   koi_disposition_FALSE POSITIVE  \n",
       "0                               0  \n",
       "1                               0  \n",
       "2                               0  \n",
       "3                               1  \n",
       "4                               0  \n",
       "\n",
       "[5 rows x 51 columns]"
      ]
     },
     "execution_count": 4,
     "metadata": {},
     "output_type": "execute_result"
    }
   ],
   "source": [
    "#make dummy variable for our target\n",
    "data = pd.get_dummies(data, columns = ['koi_disposition'])\n",
    "data = data.rename(columns ={\"koi_disposition_CONFIRMED\":\"Confirmed\"})\n",
    "data = data.rename(columns ={\"koi_disposition_CANDIDATE\":\"Candidate\"})\n",
    "data.head()"
   ]
  },
  {
   "cell_type": "code",
   "execution_count": 5,
   "metadata": {
    "colab": {},
    "colab_type": "code",
    "id": "AlxX_8rrUxoK"
   },
   "outputs": [],
   "source": [
    "#remove candidate rows\n",
    "dat = data[data['Candidate']==0]"
   ]
  },
  {
   "cell_type": "code",
   "execution_count": 6,
   "metadata": {
    "colab": {
     "base_uri": "https://localhost:8080/",
     "height": 34
    },
    "colab_type": "code",
    "id": "W4RAKWjYUxoQ",
    "outputId": "76120575-a7c9-41ff-fa80-6bebabfdc2eb"
   },
   "outputs": [
    {
     "data": {
      "text/plain": [
       "(7146, 51)"
      ]
     },
     "execution_count": 6,
     "metadata": {},
     "output_type": "execute_result"
    }
   ],
   "source": [
    "dat.shape"
   ]
  },
  {
   "cell_type": "code",
   "execution_count": 7,
   "metadata": {
    "colab": {
     "base_uri": "https://localhost:8080/",
     "height": 901
    },
    "colab_type": "code",
    "id": "XewJcvMnUxoV",
    "outputId": "c8b95d3e-91ff-44c7-f1be-133be6159524"
   },
   "outputs": [
    {
     "data": {
      "text/plain": [
       "kepid                               0.000000\n",
       "kepoi_name                          0.000000\n",
       "kepler_name                        67.702211\n",
       "koi_pdisposition                    0.000000\n",
       "koi_score                          12.678421\n",
       "koi_fpflag_nt                       0.000000\n",
       "koi_fpflag_ss                       0.000000\n",
       "koi_fpflag_co                       0.000000\n",
       "koi_fpflag_ec                       0.000000\n",
       "koi_period                          0.000000\n",
       "koi_period_err1                     4.673943\n",
       "koi_period_err2                     4.673943\n",
       "koi_time0bk                         0.000000\n",
       "koi_time0bk_err1                    4.673943\n",
       "koi_time0bk_err2                    4.673943\n",
       "koi_impact                          3.610411\n",
       "koi_impact_err1                     4.673943\n",
       "koi_impact_err2                     4.673943\n",
       "koi_duration                        0.000000\n",
       "koi_duration_err1                   4.673943\n",
       "koi_duration_err2                   4.673943\n",
       "koi_depth                           3.610411\n",
       "koi_depth_err1                      4.673943\n",
       "koi_depth_err2                      4.673943\n",
       "koi_prad                            3.610411\n",
       "koi_prad_err1                       3.610411\n",
       "koi_prad_err2                       3.610411\n",
       "koi_teq                             3.610411\n",
       "koi_teq_err1                      100.000000\n",
       "koi_teq_err2                      100.000000\n",
       "koi_insol                           3.064652\n",
       "koi_insol_err1                      3.064652\n",
       "koi_insol_err2                      3.064652\n",
       "koi_model_snr                       3.610411\n",
       "koi_tce_plnt_num                    3.974251\n",
       "koi_tce_delivname                   3.974251\n",
       "koi_steff                           3.610411\n",
       "koi_steff_err1                      4.995802\n",
       "koi_steff_err2                      5.205709\n",
       "koi_slogg                           3.610411\n",
       "koi_slogg_err1                      4.995802\n",
       "koi_slogg_err2                      4.995802\n",
       "koi_srad                            3.610411\n",
       "koi_srad_err1                       4.995802\n",
       "koi_srad_err2                       4.995802\n",
       "ra                                  0.000000\n",
       "dec                                 0.000000\n",
       "koi_kepmag                          0.013994\n",
       "Candidate                           0.000000\n",
       "Confirmed                           0.000000\n",
       "koi_disposition_FALSE POSITIVE      0.000000\n",
       "dtype: float64"
      ]
     },
     "execution_count": 7,
     "metadata": {},
     "output_type": "execute_result"
    }
   ],
   "source": [
    "#look at % missing null values\n",
    "dat.isnull().sum()/len(dat)*100"
   ]
  },
  {
   "cell_type": "code",
   "execution_count": 8,
   "metadata": {
    "colab": {
     "base_uri": "https://localhost:8080/",
     "height": 224
    },
    "colab_type": "code",
    "id": "Q961Sdv5UxoZ",
    "outputId": "66f7208f-d9a8-44d4-86d8-eda498d7e821"
   },
   "outputs": [
    {
     "data": {
      "text/html": [
       "<div>\n",
       "<style scoped>\n",
       "    .dataframe tbody tr th:only-of-type {\n",
       "        vertical-align: middle;\n",
       "    }\n",
       "\n",
       "    .dataframe tbody tr th {\n",
       "        vertical-align: top;\n",
       "    }\n",
       "\n",
       "    .dataframe thead th {\n",
       "        text-align: right;\n",
       "    }\n",
       "</style>\n",
       "<table border=\"1\" class=\"dataframe\">\n",
       "  <thead>\n",
       "    <tr style=\"text-align: right;\">\n",
       "      <th></th>\n",
       "      <th>Confirmed</th>\n",
       "      <th>koi_kepmag</th>\n",
       "      <th>dec</th>\n",
       "      <th>ra</th>\n",
       "      <th>koi_srad</th>\n",
       "      <th>koi_slogg</th>\n",
       "      <th>koi_steff</th>\n",
       "      <th>koi_model_snr</th>\n",
       "      <th>koi_insol</th>\n",
       "      <th>koi_teq</th>\n",
       "      <th>koi_prad</th>\n",
       "      <th>koi_depth</th>\n",
       "      <th>koi_duration</th>\n",
       "      <th>koi_impact</th>\n",
       "      <th>koi_time0bk</th>\n",
       "      <th>koi_period</th>\n",
       "    </tr>\n",
       "  </thead>\n",
       "  <tbody>\n",
       "    <tr>\n",
       "      <th>0</th>\n",
       "      <td>1</td>\n",
       "      <td>15.347</td>\n",
       "      <td>48.141651</td>\n",
       "      <td>291.93423</td>\n",
       "      <td>0.927</td>\n",
       "      <td>4.467</td>\n",
       "      <td>5455.0</td>\n",
       "      <td>35.8</td>\n",
       "      <td>93.59</td>\n",
       "      <td>793.0</td>\n",
       "      <td>2.26</td>\n",
       "      <td>616.0</td>\n",
       "      <td>2.95750</td>\n",
       "      <td>0.146</td>\n",
       "      <td>170.538750</td>\n",
       "      <td>9.488036</td>\n",
       "    </tr>\n",
       "    <tr>\n",
       "      <th>1</th>\n",
       "      <td>1</td>\n",
       "      <td>15.347</td>\n",
       "      <td>48.141651</td>\n",
       "      <td>291.93423</td>\n",
       "      <td>0.927</td>\n",
       "      <td>4.467</td>\n",
       "      <td>5455.0</td>\n",
       "      <td>25.8</td>\n",
       "      <td>9.11</td>\n",
       "      <td>443.0</td>\n",
       "      <td>2.83</td>\n",
       "      <td>875.0</td>\n",
       "      <td>4.50700</td>\n",
       "      <td>0.586</td>\n",
       "      <td>162.513840</td>\n",
       "      <td>54.418383</td>\n",
       "    </tr>\n",
       "    <tr>\n",
       "      <th>3</th>\n",
       "      <td>0</td>\n",
       "      <td>15.597</td>\n",
       "      <td>48.285210</td>\n",
       "      <td>285.53461</td>\n",
       "      <td>0.791</td>\n",
       "      <td>4.564</td>\n",
       "      <td>5805.0</td>\n",
       "      <td>505.6</td>\n",
       "      <td>891.96</td>\n",
       "      <td>1395.0</td>\n",
       "      <td>33.46</td>\n",
       "      <td>8080.0</td>\n",
       "      <td>2.40641</td>\n",
       "      <td>1.276</td>\n",
       "      <td>170.307565</td>\n",
       "      <td>1.736952</td>\n",
       "    </tr>\n",
       "    <tr>\n",
       "      <th>4</th>\n",
       "      <td>1</td>\n",
       "      <td>15.509</td>\n",
       "      <td>48.226200</td>\n",
       "      <td>288.75488</td>\n",
       "      <td>1.046</td>\n",
       "      <td>4.438</td>\n",
       "      <td>6031.0</td>\n",
       "      <td>40.9</td>\n",
       "      <td>926.16</td>\n",
       "      <td>1406.0</td>\n",
       "      <td>2.75</td>\n",
       "      <td>603.0</td>\n",
       "      <td>1.65450</td>\n",
       "      <td>0.701</td>\n",
       "      <td>171.595550</td>\n",
       "      <td>2.525592</td>\n",
       "    </tr>\n",
       "    <tr>\n",
       "      <th>5</th>\n",
       "      <td>1</td>\n",
       "      <td>15.714</td>\n",
       "      <td>48.224670</td>\n",
       "      <td>296.28613</td>\n",
       "      <td>0.972</td>\n",
       "      <td>4.486</td>\n",
       "      <td>6046.0</td>\n",
       "      <td>66.5</td>\n",
       "      <td>114.81</td>\n",
       "      <td>835.0</td>\n",
       "      <td>3.90</td>\n",
       "      <td>1520.0</td>\n",
       "      <td>4.59450</td>\n",
       "      <td>0.538</td>\n",
       "      <td>171.201160</td>\n",
       "      <td>11.094321</td>\n",
       "    </tr>\n",
       "  </tbody>\n",
       "</table>\n",
       "</div>"
      ],
      "text/plain": [
       "   Confirmed  koi_kepmag        dec         ra  koi_srad  koi_slogg  \\\n",
       "0          1      15.347  48.141651  291.93423     0.927      4.467   \n",
       "1          1      15.347  48.141651  291.93423     0.927      4.467   \n",
       "3          0      15.597  48.285210  285.53461     0.791      4.564   \n",
       "4          1      15.509  48.226200  288.75488     1.046      4.438   \n",
       "5          1      15.714  48.224670  296.28613     0.972      4.486   \n",
       "\n",
       "   koi_steff  koi_model_snr  koi_insol  koi_teq  koi_prad  koi_depth  \\\n",
       "0     5455.0           35.8      93.59    793.0      2.26      616.0   \n",
       "1     5455.0           25.8       9.11    443.0      2.83      875.0   \n",
       "3     5805.0          505.6     891.96   1395.0     33.46     8080.0   \n",
       "4     6031.0           40.9     926.16   1406.0      2.75      603.0   \n",
       "5     6046.0           66.5     114.81    835.0      3.90     1520.0   \n",
       "\n",
       "   koi_duration  koi_impact  koi_time0bk  koi_period  \n",
       "0       2.95750       0.146   170.538750    9.488036  \n",
       "1       4.50700       0.586   162.513840   54.418383  \n",
       "3       2.40641       1.276   170.307565    1.736952  \n",
       "4       1.65450       0.701   171.595550    2.525592  \n",
       "5       4.59450       0.538   171.201160   11.094321  "
      ]
     },
     "execution_count": 8,
     "metadata": {},
     "output_type": "execute_result"
    }
   ],
   "source": [
    "# use numeric data not pertaining to flag, err or score \n",
    "# the above varaibles are the only NASA used to determain 'Confirmed'\n",
    "# we want to see if we can determine confirmed with the other data\n",
    "# remove columns with missing values over 20%\n",
    "df = dat[['Confirmed','koi_kepmag','dec','ra','koi_srad','koi_slogg','koi_steff','koi_model_snr','koi_insol','koi_teq','koi_prad','koi_depth','koi_duration','koi_impact','koi_time0bk','koi_period']]\n",
    "df.head()"
   ]
  },
  {
   "cell_type": "code",
   "execution_count": 9,
   "metadata": {
    "colab": {
     "base_uri": "https://localhost:8080/",
     "height": 408
    },
    "colab_type": "code",
    "id": "4zv-OrAaUxod",
    "outputId": "b47a0413-8127-4f65-f603-3ad149920d4b"
   },
   "outputs": [
    {
     "name": "stdout",
     "output_type": "stream",
     "text": [
      "<class 'pandas.core.frame.DataFrame'>\n",
      "Int64Index: 7146 entries, 0 to 9563\n",
      "Data columns (total 16 columns):\n",
      "Confirmed        7146 non-null uint8\n",
      "koi_kepmag       7145 non-null float64\n",
      "dec              7146 non-null float64\n",
      "ra               7146 non-null float64\n",
      "koi_srad         6888 non-null float64\n",
      "koi_slogg        6888 non-null float64\n",
      "koi_steff        6888 non-null float64\n",
      "koi_model_snr    6888 non-null float64\n",
      "koi_insol        6927 non-null float64\n",
      "koi_teq          6888 non-null float64\n",
      "koi_prad         6888 non-null float64\n",
      "koi_depth        6888 non-null float64\n",
      "koi_duration     7146 non-null float64\n",
      "koi_impact       6888 non-null float64\n",
      "koi_time0bk      7146 non-null float64\n",
      "koi_period       7146 non-null float64\n",
      "dtypes: float64(15), uint8(1)\n",
      "memory usage: 900.2 KB\n"
     ]
    }
   ],
   "source": [
    "df.info()"
   ]
  },
  {
   "cell_type": "code",
   "execution_count": 10,
   "metadata": {
    "colab": {
     "base_uri": "https://localhost:8080/",
     "height": 122
    },
    "colab_type": "code",
    "id": "j2_aD7aCUxog",
    "outputId": "45a849de-75ad-4f74-a4b4-9fe67b7b0fdf"
   },
   "outputs": [
    {
     "name": "stderr",
     "output_type": "stream",
     "text": [
      "C:\\Users\\Austin\\Anaconda3\\lib\\site-packages\\pandas\\core\\generic.py:5886: SettingWithCopyWarning: \n",
      "A value is trying to be set on a copy of a slice from a DataFrame\n",
      "\n",
      "See the caveats in the documentation: http://pandas.pydata.org/pandas-docs/stable/indexing.html#indexing-view-versus-copy\n",
      "  self._update_inplace(new_data)\n"
     ]
    }
   ],
   "source": [
    "#replace null values\n",
    "for i in df.columns :\n",
    "    if type(df[i][1]) == np.int64 :\n",
    "        avg = df[i].astype('int').mean(axis=0)\n",
    "        df[i].replace(np.nan, avg, inplace=True)\n",
    "    elif type(df[i][1]) == np.float64:\n",
    "        avg = df[i].astype('float').mean(axis=0)\n",
    "        df[i].replace(np.nan, avg, inplace=True)\n",
    "    else:\n",
    "        pass"
   ]
  },
  {
   "cell_type": "code",
   "execution_count": 11,
   "metadata": {
    "colab": {
     "base_uri": "https://localhost:8080/",
     "height": 408
    },
    "colab_type": "code",
    "id": "uIrPjh9-Uxoj",
    "outputId": "4d751e93-37e5-41bf-925b-f95f30e00992"
   },
   "outputs": [
    {
     "name": "stdout",
     "output_type": "stream",
     "text": [
      "<class 'pandas.core.frame.DataFrame'>\n",
      "Int64Index: 7146 entries, 0 to 9563\n",
      "Data columns (total 16 columns):\n",
      "Confirmed        7146 non-null uint8\n",
      "koi_kepmag       7146 non-null float64\n",
      "dec              7146 non-null float64\n",
      "ra               7146 non-null float64\n",
      "koi_srad         7146 non-null float64\n",
      "koi_slogg        7146 non-null float64\n",
      "koi_steff        7146 non-null float64\n",
      "koi_model_snr    7146 non-null float64\n",
      "koi_insol        7146 non-null float64\n",
      "koi_teq          7146 non-null float64\n",
      "koi_prad         7146 non-null float64\n",
      "koi_depth        7146 non-null float64\n",
      "koi_duration     7146 non-null float64\n",
      "koi_impact       7146 non-null float64\n",
      "koi_time0bk      7146 non-null float64\n",
      "koi_period       7146 non-null float64\n",
      "dtypes: float64(15), uint8(1)\n",
      "memory usage: 1.2 MB\n"
     ]
    }
   ],
   "source": [
    "df.info()"
   ]
  },
  {
   "cell_type": "markdown",
   "metadata": {
    "colab_type": "text",
    "id": "z6Uj1PpGdose"
   },
   "source": [
    "##Examine Variables"
   ]
  },
  {
   "cell_type": "code",
   "execution_count": 12,
   "metadata": {
    "colab": {
     "base_uri": "https://localhost:8080/",
     "height": 868
    },
    "colab_type": "code",
    "id": "T4BstqG-Vc38",
    "outputId": "5c6d0f55-0094-4328-e854-a3b0546ac678"
   },
   "outputs": [],
   "source": [
    "#looking at these pair grids, The target variable has clear separation in many\n",
    "#looks like there might be some multicollinearity as well\n",
    "#g = sns.PairGrid(df, hue = 'Confirmed')\n",
    "#g.map_diag(plt.hist)\n",
    "#g.map_offdiag(plt.scatter);"
   ]
  },
  {
   "cell_type": "code",
   "execution_count": 13,
   "metadata": {
    "colab": {
     "base_uri": "https://localhost:8080/",
     "height": 306
    },
    "colab_type": "code",
    "id": "dje36Uo6Uxoq",
    "outputId": "76a8d898-2d0d-416f-f714-a4be2173d7e4"
   },
   "outputs": [
    {
     "data": {
      "text/plain": [
       "Confirmed        2.185946e-01\n",
       "koi_kepmag       1.993756e+00\n",
       "dec              1.274531e+01\n",
       "ra               2.258660e+01\n",
       "koi_srad         4.037732e+01\n",
       "koi_slogg        1.924511e-01\n",
       "koi_steff        6.613143e+05\n",
       "koi_model_snr    7.903372e+05\n",
       "koi_insol        3.272219e+10\n",
       "koi_teq          8.170571e+05\n",
       "koi_prad         1.036964e+07\n",
       "koi_depth        8.466731e+09\n",
       "koi_duration     4.875803e+01\n",
       "koi_impact       1.046238e+01\n",
       "koi_time0bk      4.072422e+03\n",
       "koi_period       1.297291e+04\n",
       "dtype: float64"
      ]
     },
     "execution_count": 13,
     "metadata": {},
     "output_type": "execute_result"
    }
   ],
   "source": [
    "#look at variance of variables\n",
    "df.var()"
   ]
  },
  {
   "cell_type": "code",
   "execution_count": 14,
   "metadata": {
    "colab": {},
    "colab_type": "code",
    "id": "g8W4hm8wUxot"
   },
   "outputs": [],
   "source": [
    "#get low variance variables\n",
    "#could remove these later to reduce dimensionality\n",
    "target = df['Confirmed']\n",
    "numeric = df.drop(columns='Confirmed')\n",
    "var = numeric.var()\n",
    "numeric = numeric.columns\n",
    "variable = [ ]\n",
    "for i in range(0,len(var)-1):\n",
    "    if var[i]>=1:   \n",
    "       variable.append(numeric[i])"
   ]
  },
  {
   "cell_type": "code",
   "execution_count": 15,
   "metadata": {
    "colab": {
     "base_uri": "https://localhost:8080/",
     "height": 238
    },
    "colab_type": "code",
    "id": "2VBn5IWrUxow",
    "outputId": "0c1b41ed-b345-4685-abde-7449977dc1eb"
   },
   "outputs": [
    {
     "data": {
      "text/plain": [
       "['koi_kepmag',\n",
       " 'dec',\n",
       " 'ra',\n",
       " 'koi_srad',\n",
       " 'koi_steff',\n",
       " 'koi_model_snr',\n",
       " 'koi_insol',\n",
       " 'koi_teq',\n",
       " 'koi_prad',\n",
       " 'koi_depth',\n",
       " 'koi_duration',\n",
       " 'koi_impact',\n",
       " 'koi_time0bk']"
      ]
     },
     "execution_count": 15,
     "metadata": {},
     "output_type": "execute_result"
    }
   ],
   "source": [
    "variable"
   ]
  },
  {
   "cell_type": "code",
   "execution_count": 16,
   "metadata": {
    "colab": {
     "base_uri": "https://localhost:8080/",
     "height": 534
    },
    "colab_type": "code",
    "id": "niuO4LqtUxoy",
    "outputId": "a8d728f9-defe-4abb-8171-8f493dcd6988"
   },
   "outputs": [
    {
     "data": {
      "text/html": [
       "<div>\n",
       "<style scoped>\n",
       "    .dataframe tbody tr th:only-of-type {\n",
       "        vertical-align: middle;\n",
       "    }\n",
       "\n",
       "    .dataframe tbody tr th {\n",
       "        vertical-align: top;\n",
       "    }\n",
       "\n",
       "    .dataframe thead th {\n",
       "        text-align: right;\n",
       "    }\n",
       "</style>\n",
       "<table border=\"1\" class=\"dataframe\">\n",
       "  <thead>\n",
       "    <tr style=\"text-align: right;\">\n",
       "      <th></th>\n",
       "      <th>koi_kepmag</th>\n",
       "      <th>dec</th>\n",
       "      <th>ra</th>\n",
       "      <th>koi_srad</th>\n",
       "      <th>koi_slogg</th>\n",
       "      <th>koi_steff</th>\n",
       "      <th>koi_model_snr</th>\n",
       "      <th>koi_insol</th>\n",
       "      <th>koi_teq</th>\n",
       "      <th>koi_prad</th>\n",
       "      <th>koi_depth</th>\n",
       "      <th>koi_duration</th>\n",
       "      <th>koi_impact</th>\n",
       "      <th>koi_time0bk</th>\n",
       "      <th>koi_period</th>\n",
       "    </tr>\n",
       "  </thead>\n",
       "  <tbody>\n",
       "    <tr>\n",
       "      <th>koi_kepmag</th>\n",
       "      <td>1.000000</td>\n",
       "      <td>0.019343</td>\n",
       "      <td>-0.003774</td>\n",
       "      <td>-0.167432</td>\n",
       "      <td>0.458354</td>\n",
       "      <td>-0.316073</td>\n",
       "      <td>-0.121788</td>\n",
       "      <td>-0.075080</td>\n",
       "      <td>-0.262190</td>\n",
       "      <td>-0.021157</td>\n",
       "      <td>0.051990</td>\n",
       "      <td>-0.097122</td>\n",
       "      <td>-0.008757</td>\n",
       "      <td>0.010347</td>\n",
       "      <td>-0.038878</td>\n",
       "    </tr>\n",
       "    <tr>\n",
       "      <th>dec</th>\n",
       "      <td>0.019343</td>\n",
       "      <td>1.000000</td>\n",
       "      <td>-0.008342</td>\n",
       "      <td>-0.027745</td>\n",
       "      <td>0.056420</td>\n",
       "      <td>-0.022297</td>\n",
       "      <td>0.004168</td>\n",
       "      <td>-0.015382</td>\n",
       "      <td>-0.056365</td>\n",
       "      <td>-0.003616</td>\n",
       "      <td>-0.014103</td>\n",
       "      <td>-0.028712</td>\n",
       "      <td>-0.011718</td>\n",
       "      <td>-0.015322</td>\n",
       "      <td>-0.003239</td>\n",
       "    </tr>\n",
       "    <tr>\n",
       "      <th>ra</th>\n",
       "      <td>-0.003774</td>\n",
       "      <td>-0.008342</td>\n",
       "      <td>1.000000</td>\n",
       "      <td>0.056984</td>\n",
       "      <td>-0.092861</td>\n",
       "      <td>0.108939</td>\n",
       "      <td>0.036769</td>\n",
       "      <td>0.029599</td>\n",
       "      <td>0.135015</td>\n",
       "      <td>0.003482</td>\n",
       "      <td>0.026162</td>\n",
       "      <td>0.036842</td>\n",
       "      <td>0.012769</td>\n",
       "      <td>-0.048609</td>\n",
       "      <td>-0.068232</td>\n",
       "    </tr>\n",
       "    <tr>\n",
       "      <th>koi_srad</th>\n",
       "      <td>-0.167432</td>\n",
       "      <td>-0.027745</td>\n",
       "      <td>0.056984</td>\n",
       "      <td>1.000000</td>\n",
       "      <td>-0.650933</td>\n",
       "      <td>-0.124206</td>\n",
       "      <td>-0.014585</td>\n",
       "      <td>0.579243</td>\n",
       "      <td>0.485279</td>\n",
       "      <td>0.058437</td>\n",
       "      <td>-0.021893</td>\n",
       "      <td>0.007743</td>\n",
       "      <td>0.021813</td>\n",
       "      <td>-0.012081</td>\n",
       "      <td>-0.000793</td>\n",
       "    </tr>\n",
       "    <tr>\n",
       "      <th>koi_slogg</th>\n",
       "      <td>0.458354</td>\n",
       "      <td>0.056420</td>\n",
       "      <td>-0.092861</td>\n",
       "      <td>-0.650933</td>\n",
       "      <td>1.000000</td>\n",
       "      <td>-0.126960</td>\n",
       "      <td>-0.047478</td>\n",
       "      <td>-0.315194</td>\n",
       "      <td>-0.567762</td>\n",
       "      <td>-0.096023</td>\n",
       "      <td>-0.005716</td>\n",
       "      <td>-0.112797</td>\n",
       "      <td>-0.054028</td>\n",
       "      <td>0.006059</td>\n",
       "      <td>-0.035337</td>\n",
       "    </tr>\n",
       "    <tr>\n",
       "      <th>koi_steff</th>\n",
       "      <td>-0.316073</td>\n",
       "      <td>-0.022297</td>\n",
       "      <td>0.108939</td>\n",
       "      <td>-0.124206</td>\n",
       "      <td>-0.126960</td>\n",
       "      <td>1.000000</td>\n",
       "      <td>0.151530</td>\n",
       "      <td>-0.066178</td>\n",
       "      <td>0.244907</td>\n",
       "      <td>-0.013311</td>\n",
       "      <td>0.120185</td>\n",
       "      <td>0.088089</td>\n",
       "      <td>0.018618</td>\n",
       "      <td>0.004846</td>\n",
       "      <td>0.024346</td>\n",
       "    </tr>\n",
       "    <tr>\n",
       "      <th>koi_model_snr</th>\n",
       "      <td>-0.121788</td>\n",
       "      <td>0.004168</td>\n",
       "      <td>0.036769</td>\n",
       "      <td>-0.014585</td>\n",
       "      <td>-0.047478</td>\n",
       "      <td>0.151530</td>\n",
       "      <td>1.000000</td>\n",
       "      <td>-0.012457</td>\n",
       "      <td>0.017578</td>\n",
       "      <td>-0.002562</td>\n",
       "      <td>0.568856</td>\n",
       "      <td>0.079955</td>\n",
       "      <td>-0.004479</td>\n",
       "      <td>-0.053807</td>\n",
       "      <td>-0.064201</td>\n",
       "    </tr>\n",
       "    <tr>\n",
       "      <th>koi_insol</th>\n",
       "      <td>-0.075080</td>\n",
       "      <td>-0.015382</td>\n",
       "      <td>0.029599</td>\n",
       "      <td>0.579243</td>\n",
       "      <td>-0.315194</td>\n",
       "      <td>-0.066178</td>\n",
       "      <td>-0.012457</td>\n",
       "      <td>1.000000</td>\n",
       "      <td>0.443474</td>\n",
       "      <td>0.003154</td>\n",
       "      <td>-0.010282</td>\n",
       "      <td>-0.020958</td>\n",
       "      <td>-0.004820</td>\n",
       "      <td>-0.023045</td>\n",
       "      <td>-0.023217</td>\n",
       "    </tr>\n",
       "    <tr>\n",
       "      <th>koi_teq</th>\n",
       "      <td>-0.262190</td>\n",
       "      <td>-0.056365</td>\n",
       "      <td>0.135015</td>\n",
       "      <td>0.485279</td>\n",
       "      <td>-0.567762</td>\n",
       "      <td>0.244907</td>\n",
       "      <td>0.017578</td>\n",
       "      <td>0.443474</td>\n",
       "      <td>1.000000</td>\n",
       "      <td>-0.002390</td>\n",
       "      <td>0.056693</td>\n",
       "      <td>-0.190722</td>\n",
       "      <td>-0.016436</td>\n",
       "      <td>-0.303542</td>\n",
       "      <td>-0.371265</td>\n",
       "    </tr>\n",
       "    <tr>\n",
       "      <th>koi_prad</th>\n",
       "      <td>-0.021157</td>\n",
       "      <td>-0.003616</td>\n",
       "      <td>0.003482</td>\n",
       "      <td>0.058437</td>\n",
       "      <td>-0.096023</td>\n",
       "      <td>-0.013311</td>\n",
       "      <td>-0.002562</td>\n",
       "      <td>0.003154</td>\n",
       "      <td>-0.002390</td>\n",
       "      <td>1.000000</td>\n",
       "      <td>0.002030</td>\n",
       "      <td>0.042690</td>\n",
       "      <td>0.679805</td>\n",
       "      <td>0.040525</td>\n",
       "      <td>0.074320</td>\n",
       "    </tr>\n",
       "    <tr>\n",
       "      <th>koi_depth</th>\n",
       "      <td>0.051990</td>\n",
       "      <td>-0.014103</td>\n",
       "      <td>0.026162</td>\n",
       "      <td>-0.021893</td>\n",
       "      <td>-0.005716</td>\n",
       "      <td>0.120185</td>\n",
       "      <td>0.568856</td>\n",
       "      <td>-0.010282</td>\n",
       "      <td>0.056693</td>\n",
       "      <td>0.002030</td>\n",
       "      <td>1.000000</td>\n",
       "      <td>0.062677</td>\n",
       "      <td>0.002787</td>\n",
       "      <td>-0.045881</td>\n",
       "      <td>-0.062539</td>\n",
       "    </tr>\n",
       "    <tr>\n",
       "      <th>koi_duration</th>\n",
       "      <td>-0.097122</td>\n",
       "      <td>-0.028712</td>\n",
       "      <td>0.036842</td>\n",
       "      <td>0.007743</td>\n",
       "      <td>-0.112797</td>\n",
       "      <td>0.088089</td>\n",
       "      <td>0.079955</td>\n",
       "      <td>-0.020958</td>\n",
       "      <td>-0.190722</td>\n",
       "      <td>0.042690</td>\n",
       "      <td>0.062677</td>\n",
       "      <td>1.000000</td>\n",
       "      <td>0.047162</td>\n",
       "      <td>0.195309</td>\n",
       "      <td>0.308575</td>\n",
       "    </tr>\n",
       "    <tr>\n",
       "      <th>koi_impact</th>\n",
       "      <td>-0.008757</td>\n",
       "      <td>-0.011718</td>\n",
       "      <td>0.012769</td>\n",
       "      <td>0.021813</td>\n",
       "      <td>-0.054028</td>\n",
       "      <td>0.018618</td>\n",
       "      <td>-0.004479</td>\n",
       "      <td>-0.004820</td>\n",
       "      <td>-0.016436</td>\n",
       "      <td>0.679805</td>\n",
       "      <td>0.002787</td>\n",
       "      <td>0.047162</td>\n",
       "      <td>1.000000</td>\n",
       "      <td>0.061281</td>\n",
       "      <td>0.070098</td>\n",
       "    </tr>\n",
       "    <tr>\n",
       "      <th>koi_time0bk</th>\n",
       "      <td>0.010347</td>\n",
       "      <td>-0.015322</td>\n",
       "      <td>-0.048609</td>\n",
       "      <td>-0.012081</td>\n",
       "      <td>0.006059</td>\n",
       "      <td>0.004846</td>\n",
       "      <td>-0.053807</td>\n",
       "      <td>-0.023045</td>\n",
       "      <td>-0.303542</td>\n",
       "      <td>0.040525</td>\n",
       "      <td>-0.045881</td>\n",
       "      <td>0.195309</td>\n",
       "      <td>0.061281</td>\n",
       "      <td>1.000000</td>\n",
       "      <td>0.642586</td>\n",
       "    </tr>\n",
       "    <tr>\n",
       "      <th>koi_period</th>\n",
       "      <td>-0.038878</td>\n",
       "      <td>-0.003239</td>\n",
       "      <td>-0.068232</td>\n",
       "      <td>-0.000793</td>\n",
       "      <td>-0.035337</td>\n",
       "      <td>0.024346</td>\n",
       "      <td>-0.064201</td>\n",
       "      <td>-0.023217</td>\n",
       "      <td>-0.371265</td>\n",
       "      <td>0.074320</td>\n",
       "      <td>-0.062539</td>\n",
       "      <td>0.308575</td>\n",
       "      <td>0.070098</td>\n",
       "      <td>0.642586</td>\n",
       "      <td>1.000000</td>\n",
       "    </tr>\n",
       "  </tbody>\n",
       "</table>\n",
       "</div>"
      ],
      "text/plain": [
       "               koi_kepmag       dec        ra  koi_srad  koi_slogg  koi_steff  \\\n",
       "koi_kepmag       1.000000  0.019343 -0.003774 -0.167432   0.458354  -0.316073   \n",
       "dec              0.019343  1.000000 -0.008342 -0.027745   0.056420  -0.022297   \n",
       "ra              -0.003774 -0.008342  1.000000  0.056984  -0.092861   0.108939   \n",
       "koi_srad        -0.167432 -0.027745  0.056984  1.000000  -0.650933  -0.124206   \n",
       "koi_slogg        0.458354  0.056420 -0.092861 -0.650933   1.000000  -0.126960   \n",
       "koi_steff       -0.316073 -0.022297  0.108939 -0.124206  -0.126960   1.000000   \n",
       "koi_model_snr   -0.121788  0.004168  0.036769 -0.014585  -0.047478   0.151530   \n",
       "koi_insol       -0.075080 -0.015382  0.029599  0.579243  -0.315194  -0.066178   \n",
       "koi_teq         -0.262190 -0.056365  0.135015  0.485279  -0.567762   0.244907   \n",
       "koi_prad        -0.021157 -0.003616  0.003482  0.058437  -0.096023  -0.013311   \n",
       "koi_depth        0.051990 -0.014103  0.026162 -0.021893  -0.005716   0.120185   \n",
       "koi_duration    -0.097122 -0.028712  0.036842  0.007743  -0.112797   0.088089   \n",
       "koi_impact      -0.008757 -0.011718  0.012769  0.021813  -0.054028   0.018618   \n",
       "koi_time0bk      0.010347 -0.015322 -0.048609 -0.012081   0.006059   0.004846   \n",
       "koi_period      -0.038878 -0.003239 -0.068232 -0.000793  -0.035337   0.024346   \n",
       "\n",
       "               koi_model_snr  koi_insol   koi_teq  koi_prad  koi_depth  \\\n",
       "koi_kepmag         -0.121788  -0.075080 -0.262190 -0.021157   0.051990   \n",
       "dec                 0.004168  -0.015382 -0.056365 -0.003616  -0.014103   \n",
       "ra                  0.036769   0.029599  0.135015  0.003482   0.026162   \n",
       "koi_srad           -0.014585   0.579243  0.485279  0.058437  -0.021893   \n",
       "koi_slogg          -0.047478  -0.315194 -0.567762 -0.096023  -0.005716   \n",
       "koi_steff           0.151530  -0.066178  0.244907 -0.013311   0.120185   \n",
       "koi_model_snr       1.000000  -0.012457  0.017578 -0.002562   0.568856   \n",
       "koi_insol          -0.012457   1.000000  0.443474  0.003154  -0.010282   \n",
       "koi_teq             0.017578   0.443474  1.000000 -0.002390   0.056693   \n",
       "koi_prad           -0.002562   0.003154 -0.002390  1.000000   0.002030   \n",
       "koi_depth           0.568856  -0.010282  0.056693  0.002030   1.000000   \n",
       "koi_duration        0.079955  -0.020958 -0.190722  0.042690   0.062677   \n",
       "koi_impact         -0.004479  -0.004820 -0.016436  0.679805   0.002787   \n",
       "koi_time0bk        -0.053807  -0.023045 -0.303542  0.040525  -0.045881   \n",
       "koi_period         -0.064201  -0.023217 -0.371265  0.074320  -0.062539   \n",
       "\n",
       "               koi_duration  koi_impact  koi_time0bk  koi_period  \n",
       "koi_kepmag        -0.097122   -0.008757     0.010347   -0.038878  \n",
       "dec               -0.028712   -0.011718    -0.015322   -0.003239  \n",
       "ra                 0.036842    0.012769    -0.048609   -0.068232  \n",
       "koi_srad           0.007743    0.021813    -0.012081   -0.000793  \n",
       "koi_slogg         -0.112797   -0.054028     0.006059   -0.035337  \n",
       "koi_steff          0.088089    0.018618     0.004846    0.024346  \n",
       "koi_model_snr      0.079955   -0.004479    -0.053807   -0.064201  \n",
       "koi_insol         -0.020958   -0.004820    -0.023045   -0.023217  \n",
       "koi_teq           -0.190722   -0.016436    -0.303542   -0.371265  \n",
       "koi_prad           0.042690    0.679805     0.040525    0.074320  \n",
       "koi_depth          0.062677    0.002787    -0.045881   -0.062539  \n",
       "koi_duration       1.000000    0.047162     0.195309    0.308575  \n",
       "koi_impact         0.047162    1.000000     0.061281    0.070098  \n",
       "koi_time0bk        0.195309    0.061281     1.000000    0.642586  \n",
       "koi_period         0.308575    0.070098     0.642586    1.000000  "
      ]
     },
     "execution_count": 16,
     "metadata": {},
     "output_type": "execute_result"
    }
   ],
   "source": [
    "#look at correlations\n",
    "d = df.drop(columns='Confirmed')\n",
    "cor = d.corr()\n",
    "cor"
   ]
  },
  {
   "cell_type": "code",
   "execution_count": 17,
   "metadata": {
    "colab": {},
    "colab_type": "code",
    "id": "-M4av67gUxo2"
   },
   "outputs": [],
   "source": [
    "#get high correlation varaibles\n",
    "#could remove these later to reduce dimensionality\n",
    "cors = d.corr()\n",
    "var = []\n",
    "for i in cors.columns:\n",
    "    for j in cors[i]:\n",
    "        if  j >.5:   \n",
    "           var.append([i,j])"
   ]
  },
  {
   "cell_type": "code",
   "execution_count": 18,
   "metadata": {
    "colab": {
     "base_uri": "https://localhost:8080/",
     "height": 408
    },
    "colab_type": "code",
    "id": "HlyqV7pCUxo5",
    "outputId": "6c21b11e-0fa8-478c-a5ae-67c075857e5c"
   },
   "outputs": [
    {
     "data": {
      "text/plain": [
       "[['koi_kepmag', 1.0],\n",
       " ['dec', 1.0],\n",
       " ['ra', 1.0],\n",
       " ['koi_srad', 1.0],\n",
       " ['koi_srad', 0.5792427390459053],\n",
       " ['koi_slogg', 1.0],\n",
       " ['koi_steff', 1.0],\n",
       " ['koi_model_snr', 1.0],\n",
       " ['koi_model_snr', 0.5688555529793039],\n",
       " ['koi_insol', 0.5792427390459053],\n",
       " ['koi_insol', 1.0],\n",
       " ['koi_teq', 1.0],\n",
       " ['koi_prad', 1.0],\n",
       " ['koi_prad', 0.6798050065040708],\n",
       " ['koi_depth', 0.5688555529793039],\n",
       " ['koi_depth', 1.0],\n",
       " ['koi_duration', 1.0],\n",
       " ['koi_impact', 0.6798050065040708],\n",
       " ['koi_impact', 1.0],\n",
       " ['koi_time0bk', 1.0],\n",
       " ['koi_time0bk', 0.6425860948584298],\n",
       " ['koi_period', 0.6425860948584298],\n",
       " ['koi_period', 1.0]]"
      ]
     },
     "execution_count": 18,
     "metadata": {},
     "output_type": "execute_result"
    }
   ],
   "source": [
    "var\n",
    "# Correlated:\n",
    "#koi_srad, koi_insol\n",
    "#koi_model_snr, koi_depth\n",
    "#koi_prad, koi_impact\n",
    "#koi_period, koi_time0bk"
   ]
  },
  {
   "cell_type": "code",
   "execution_count": 19,
   "metadata": {
    "colab": {},
    "colab_type": "code",
    "id": "0DVe3HZ3Uxo9"
   },
   "outputs": [],
   "source": [
    "#make training sets\n",
    "X_train, X_test, y_train, y_test = train_test_split(d, target, test_size=0.2, random_state=9)"
   ]
  },
  {
   "cell_type": "code",
   "execution_count": 20,
   "metadata": {
    "colab": {
     "base_uri": "https://localhost:8080/",
     "height": 153
    },
    "colab_type": "code",
    "id": "LYSJADK6Uxo_",
    "outputId": "4fafe498-d8c3-4f19-a1a8-f1ecc3e3a87c"
   },
   "outputs": [
    {
     "data": {
      "text/plain": [
       "RandomForestClassifier(bootstrap=True, class_weight=None, criterion='gini',\n",
       "            max_depth=10, max_features='auto', max_leaf_nodes=None,\n",
       "            min_impurity_decrease=0.0, min_impurity_split=None,\n",
       "            min_samples_leaf=1, min_samples_split=2,\n",
       "            min_weight_fraction_leaf=0.0, n_estimators=10, n_jobs=1,\n",
       "            oob_score=False, random_state=1, verbose=0, warm_start=False)"
      ]
     },
     "execution_count": 20,
     "metadata": {},
     "output_type": "execute_result"
    }
   ],
   "source": [
    "#do classifier to find feature importance\n",
    "model = RandomForestClassifier(random_state=1, max_depth=10)\n",
    "model.fit(X_train,y_train)"
   ]
  },
  {
   "cell_type": "code",
   "execution_count": 21,
   "metadata": {
    "colab": {
     "base_uri": "https://localhost:8080/",
     "height": 295
    },
    "colab_type": "code",
    "id": "KSLYjD2uUxpB",
    "outputId": "fd5ba020-f239-42b4-e18a-be1e3f17ea2a"
   },
   "outputs": [
    {
     "data": {
      "image/png": "[encoded data removed]",
      "text/plain": [
       "<Figure size 432x288 with 1 Axes>"
      ]
     },
     "metadata": {},
     "output_type": "display_data"
    }
   ],
   "source": [
    "#plot feature importance\n",
    "features = X_train.columns\n",
    "importances = model.feature_importances_\n",
    "indices = np.argsort(importances)[-15:]  # top 10 features\n",
    "plt.title('Feature Importances')\n",
    "plt.barh(range(len(indices)), importances[indices], color='b', align='center')\n",
    "plt.yticks(range(len(indices)), [features[i] for i in indices])\n",
    "plt.xlabel('Relative Importance')\n",
    "plt.show()"
   ]
  },
  {
   "cell_type": "markdown",
   "metadata": {
    "colab_type": "text",
    "id": "xe2_aXc3d7H_"
   },
   "source": [
    "##Modeling"
   ]
  },
  {
   "cell_type": "code",
   "execution_count": 22,
   "metadata": {
    "colab": {},
    "colab_type": "code",
    "id": "focdE82zUxpJ"
   },
   "outputs": [],
   "source": [
    "#Make Decision Trees\n",
    "tre3 = tree.DecisionTreeClassifier(max_depth=7)\n",
    "tre3.fit(X_train,y_train)\n",
    "ypred3 = tre3.predict(X_test)"
   ]
  },
  {
   "cell_type": "code",
   "execution_count": 23,
   "metadata": {
    "colab": {
     "base_uri": "https://localhost:8080/",
     "height": 34
    },
    "colab_type": "code",
    "id": "BPtficmEkrz7",
    "outputId": "29c1e706-27c3-4ef3-ff8d-4c8643d85e88"
   },
   "outputs": [
    {
     "name": "stdout",
     "output_type": "stream",
     "text": [
      "Accuracy: 0.8909090909090909\n"
     ]
    }
   ],
   "source": [
    "print(\"Accuracy:\", metrics.accuracy_score(y_test, ypred3))"
   ]
  },
  {
   "cell_type": "code",
   "execution_count": null,
   "metadata": {
    "colab": {
     "base_uri": "https://localhost:8080/",
     "height": 132
    },
    "colab_type": "code",
    "id": "I9AcknXikvjb",
    "outputId": "3ad647ad-b3e3-43a5-c8fa-30ed0e283bf6",
    "scrolled": false
   },
   "outputs": [],
   "source": [
    "#Defining the feature names \n",
    "df_exo_x = ['koi_time0bk', 'koi_impact', 'koi_duration', 'koi_depth', 'koi_prad', 'koi_teq', 'koi_insol', \n",
    "            'koi_period', 'koi_model_snr', 'koi_steff', 'koi_slogg', 'koi_srad', 'ra', 'dec', 'koi_kepmag']\n",
    "#Decision Tree Visualization\n",
    "dot_data = StringIO()\n",
    "export_graphviz(tre3, out_file=dot_data,\n",
    "                filled=True, rounded=True,\n",
    "                special_characters=True, feature_names = df_exo_x, class_names=['0', '1'])\n",
    "graph = pydotplus.graph_from_dot_data(dot_data.getvalue())\n",
    "graph.write_png('disposition2.png')\n",
    "Image(graph.create_png())"
   ]
  },
  {
   "cell_type": "code",
   "execution_count": null,
   "metadata": {
    "colab": {},
    "colab_type": "code",
    "id": "u1wAXtfMUxpL"
   },
   "outputs": [],
   "source": [
    "tre4 = tree.DecisionTreeClassifier(max_depth=4)\n",
    "tre4.fit(X_train,y_train)\n",
    "ypred4 = tre4.predict(X_test)"
   ]
  },
  {
   "cell_type": "code",
   "execution_count": null,
   "metadata": {
    "colab": {},
    "colab_type": "code",
    "id": "TU984Gtyk9KX"
   },
   "outputs": [],
   "source": [
    "print(\"Accuracy:\", metrics.accuracy_score(y_test, ypred4))"
   ]
  },
  {
   "cell_type": "code",
   "execution_count": null,
   "metadata": {
    "colab": {},
    "colab_type": "code",
    "id": "6c3mLzvGk9kS"
   },
   "outputs": [],
   "source": [
    "dot_data = StringIO()\n",
    "export_graphviz(tre4, out_file=dot_data,\n",
    "                filled=True, rounded=True,\n",
    "                special_characters=True, feature_names = df_exo_x, class_names=['0', '1'])\n",
    "graph = pydotplus.graph_from_dot_data(dot_data.getvalue())\n",
    "graph.write_png('disposition2.png')\n",
    "Image(graph.create_png())"
   ]
  },
  {
   "cell_type": "code",
   "execution_count": null,
   "metadata": {
    "colab": {
     "base_uri": "https://localhost:8080/",
     "height": 119
    },
    "colab_type": "code",
    "id": "QSa3Kly4UxpN",
    "outputId": "88a45ed5-97b1-41d8-e26b-4fd60fc8ed0b"
   },
   "outputs": [],
   "source": [
    "#look at confusion matrices and hitrates\n",
    "cm = confusion_matrix(y_test,ypred3)\n",
    "hr_dt = (cm[0,0]+cm[1,1])/1430\n",
    "mse_dt = mean_squared_error(y_test, ypred3)\n",
    "print(cm)\n",
    "print('HitRate:', (cm[0,0]+cm[1,1])/1430)\n",
    "cm2 = confusion_matrix(y_test,ypred4)\n",
    "print(cm2)\n",
    "print('HitRate:', (cm2[0,0]+cm2[1,1])/1430)"
   ]
  },
  {
   "cell_type": "code",
   "execution_count": null,
   "metadata": {
    "colab": {},
    "colab_type": "code",
    "id": "L4ztIeQMUxpQ"
   },
   "outputs": [],
   "source": [
    "# Look at accuracies depending on depth for Random Forest\n",
    "\n",
    "# Setup arrays to store train and test accuracies\n",
    "dep = np.arange(1, 20)\n",
    "train_accuracy = np.empty(len(dep))\n",
    "test_accuracy = np.empty(len(dep))\n",
    "\n",
    "# Loop over different values of k\n",
    "for i, k in enumerate(dep):\n",
    "    # Setup a k-NN Classifier with k neighbors: knn\n",
    "    clf = RandomForestClassifier(max_depth=k)\n",
    "\n",
    "    # Fit the classifier to the training data\n",
    "    clf.fit(X_train, y_train)\n",
    "    \n",
    "    #Compute accuracy on the training set\n",
    "    train_accuracy[i] = clf.score(X_train, y_train)\n",
    "\n",
    "    #Compute accuracy on the testing set\n",
    "    test_accuracy[i] = clf.score(X_test, y_test)\n",
    "\n",
    "# Generate plot\n",
    "plt.title('clf: Varying depth of tree')\n",
    "plt.plot(dep, test_accuracy, label = 'Testing Accuracy')\n",
    "plt.plot(dep, train_accuracy, label = 'Training Accuracy')\n",
    "plt.legend()\n",
    "plt.xlabel('Depth of tree')\n",
    "plt.ylabel('Accuracy')\n",
    "plt.show()"
   ]
  },
  {
   "cell_type": "code",
   "execution_count": null,
   "metadata": {
    "colab": {},
    "colab_type": "code",
    "id": "0i4Kpah1UxpS"
   },
   "outputs": [],
   "source": [
    "#random forest models\n",
    "\n",
    "model = RandomForestClassifier(n_estimators = 100,max_depth=13, bootstrap=True)\n",
    "model.fit(X_train, y_train)\n",
    "\n",
    "y_pred = model.predict(X_test)\n",
    "# The mean squared error\n",
    "mse = mean_squared_error(y_test, y_pred)\n",
    "print('Mean squared error:', mse)\n",
    "\n",
    "# The coefficient of determination: 1 is perfect prediction\n",
    "r2 = r2_score(y_test, y_pred)\n",
    "print('R-Squared:', r2)\n",
    "\n",
    "cm= confusion_matrix(y_test,y_pred)\n",
    "print(cm)\n",
    "print('HitRate:', (cm[0,0]+cm[1,1])/1430)"
   ]
  },
  {
   "cell_type": "code",
   "execution_count": null,
   "metadata": {
    "colab": {
     "base_uri": "https://localhost:8080/",
     "height": 102
    },
    "colab_type": "code",
    "id": "dQyrPon5UxpY",
    "outputId": "2e032ad3-909a-4168-ab06-abc7109b89b3"
   },
   "outputs": [],
   "source": [
    "model = RandomForestClassifier(n_estimators = 100,max_depth=8, bootstrap=True)\n",
    "model.fit(X_train, y_train)\n",
    "\n",
    "y_pred = model.predict(X_test)\n",
    "# The mean squared error\n",
    "mse_rf = mean_squared_error(y_test, y_pred)\n",
    "print('Mean squared error:', mse)\n",
    "\n",
    "# The coefficient of determination: 1 is perfect prediction\n",
    "r2 = r2_score(y_test, y_pred)\n",
    "print('R-Squared:', r2)\n",
    "\n",
    "cm= confusion_matrix(y_test,y_pred)\n",
    "hr_rf = (cm[0,0]+cm[1,1])/1430\n",
    "print(cm)\n",
    "print('HitRate:', (cm[0,0]+cm[1,1])/1430)"
   ]
  },
  {
   "cell_type": "code",
   "execution_count": null,
   "metadata": {
    "colab": {
     "base_uri": "https://localhost:8080/",
     "height": 102
    },
    "colab_type": "code",
    "id": "M8VYaE6UUxph",
    "outputId": "a6ac9643-8707-4cb3-ec55-4fe72b493513"
   },
   "outputs": [],
   "source": [
    "#logistic regression models\n",
    "\n",
    "model = LogisticRegression().fit(preprocessing.scale(X_train),y_train)\n",
    "y_pred = model.predict(preprocessing.scale(X_test))\n",
    "\n",
    "mse_log = mean_squared_error(y_test, y_pred)\n",
    "print('Mean squared error:', mse)\n",
    "\n",
    "# The coefficient of determination: 1 is perfect prediction\n",
    "r2 = r2_score(y_test, y_pred)\n",
    "print('R-Squared:', r2)\n",
    "\n",
    "cm= confusion_matrix(y_test,y_pred)\n",
    "hr_log = (cm[0,0]+cm[1,1])/1430\n",
    "print(cm)\n",
    "print('HitRate:', (cm[0,0]+cm[1,1])/1430)"
   ]
  },
  {
   "cell_type": "markdown",
   "metadata": {
    "colab_type": "text",
    "id": "8NCEYTW_eN9Z"
   },
   "source": [
    "##Compare Models"
   ]
  },
  {
   "cell_type": "code",
   "execution_count": null,
   "metadata": {
    "colab": {},
    "colab_type": "code",
    "id": "7W3tog7FUxpo"
   },
   "outputs": [],
   "source": [
    "models = pd.DataFrame()\n",
    "models['mod'] = ['Logistic','DicisionTree','RandomForest']\n",
    "models['HitRate'] = [hr_log,hr_dt,hr_rf]\n",
    "models['mse'] = [mse_log,mse_dt,mse_rf]"
   ]
  },
  {
   "cell_type": "code",
   "execution_count": null,
   "metadata": {
    "colab": {
     "base_uri": "https://localhost:8080/",
     "height": 386
    },
    "colab_type": "code",
    "id": "B3Cy1UMIaUba",
    "outputId": "a551c758-eed7-4398-abe5-4ce6cbc98c06"
   },
   "outputs": [],
   "source": [
    "sns.catplot(x ='mod', y = 'HitRate', data = models, kind = 'bar')"
   ]
  },
  {
   "cell_type": "code",
   "execution_count": null,
   "metadata": {
    "colab": {
     "base_uri": "https://localhost:8080/",
     "height": 386
    },
    "colab_type": "code",
    "id": "PpUwERzkbPwg",
    "outputId": "ebc67d54-8fe0-401b-999e-0b401150038b"
   },
   "outputs": [],
   "source": [
    "sns.catplot(x ='mod', y = 'mse', data = models, kind = 'bar')"
   ]
  },
  {
   "cell_type": "markdown",
   "metadata": {
    "colab_type": "text",
    "id": "PJ9RWQ2TeSuk"
   },
   "source": [
    "##Fine Tuning"
   ]
  },
  {
   "cell_type": "code",
   "execution_count": null,
   "metadata": {
    "colab": {},
    "colab_type": "code",
    "id": "CGww48b7Uxpa"
   },
   "outputs": [],
   "source": [
    "#Take out low varance varables\n",
    "df2 = pd.concat([target,df[variable]],axis = 1)\n",
    "d2 = df2.drop(columns='Confirmed')\n",
    "X_train2, X_test2, y_train2, y_test2 = train_test_split(d2, df2['Confirmed'], test_size=0.2, random_state=9)"
   ]
  },
  {
   "cell_type": "code",
   "execution_count": null,
   "metadata": {
    "colab": {},
    "colab_type": "code",
    "id": "5A37vQDCUxpc"
   },
   "outputs": [],
   "source": [
    "model = RandomForestClassifier(n_estimators = 100,max_depth=8, bootstrap=True)\n",
    "model.fit(X_train2, y_train2)\n",
    "\n",
    "y_pred = model.predict(X_test2)\n",
    "# The mean squared error\n",
    "mse = mean_squared_error(y_test2, y_pred)\n",
    "print('Mean squared error:', mse)\n",
    "\n",
    "# The coefficient of determination: 1 is perfect prediction\n",
    "r2 = r2_score(y_test2, y_pred)\n",
    "print('R-Squared:', r2)\n",
    "\n",
    "cm= confusion_matrix(y_test2,y_pred)\n",
    "print(cm)\n",
    "print('HitRate:', (cm[0,0]+cm[1,1])/1430)"
   ]
  },
  {
   "cell_type": "code",
   "execution_count": null,
   "metadata": {
    "colab": {},
    "colab_type": "code",
    "id": "1QRTGXVPfGoX"
   },
   "outputs": [],
   "source": [
    "#doesn't effect hitrate but reduces dimensionality and mse!"
   ]
  },
  {
   "cell_type": "code",
   "execution_count": null,
   "metadata": {
    "colab": {},
    "colab_type": "code",
    "id": "1tuu4oL0eUpy"
   },
   "outputs": [],
   "source": [
    "#remove multicollinearity:\n",
    "#koi_srad, koi_insol 0.579\n",
    "#koi_model_snr, koi_depth 0.56\n",
    "#koi_prad, koi_impact 0.6798\n",
    "d2.corr()"
   ]
  },
  {
   "cell_type": "code",
   "execution_count": null,
   "metadata": {
    "colab": {},
    "colab_type": "code",
    "id": "703mEiH9gr3A"
   },
   "outputs": [],
   "source": [
    "#plot feature importance\n",
    "features = X_train2.columns\n",
    "importances = model.feature_importances_\n",
    "indices = np.argsort(importances)[-15:]  # top 10 features\n",
    "plt.title('Feature Importances')\n",
    "plt.barh(range(len(indices)), importances[indices], color='b', align='center')\n",
    "plt.yticks(range(len(indices)), [features[i] for i in indices])\n",
    "plt.xlabel('Relative Importance')\n",
    "plt.show()"
   ]
  },
  {
   "cell_type": "code",
   "execution_count": null,
   "metadata": {
    "colab": {},
    "colab_type": "code",
    "id": "O0Y0M4H-ftmJ"
   },
   "outputs": [],
   "source": [
    "#remove koi_impact because it has highest collinearity and lower feature\n",
    "#importance than koi_prad\n",
    "\n",
    "df3 = df2.drop(columns = 'koi_impact')\n",
    "d3 = df3.drop(columns='Confirmed')\n",
    "X_train3, X_test3, y_train3, y_test3 = train_test_split(d3, df3['Confirmed'], test_size=0.2, random_state=9)"
   ]
  },
  {
   "cell_type": "code",
   "execution_count": null,
   "metadata": {
    "colab": {},
    "colab_type": "code",
    "id": "yz7yNJpEf7XL"
   },
   "outputs": [],
   "source": [
    "model_final = RandomForestClassifier(n_estimators = 100,max_depth=8, bootstrap=True)\n",
    "model_final.fit(X_train3, y_train3)\n",
    "\n",
    "y_pred = model_final.predict(X_test3)\n",
    "# The mean squared error\n",
    "mse = mean_squared_error(y_test3, y_pred)\n",
    "print('Mean squared error:', mse)\n",
    "\n",
    "# The coefficient of determination: 1 is perfect prediction\n",
    "r2 = r2_score(y_test3, y_pred)\n",
    "print('R-Squared:', r2)\n",
    "\n",
    "cm= confusion_matrix(y_test3,y_pred)\n",
    "print(cm)\n",
    "print('HitRate:', (cm[0,0]+cm[1,1])/1430)"
   ]
  },
  {
   "cell_type": "code",
   "execution_count": null,
   "metadata": {
    "colab": {},
    "colab_type": "code",
    "id": "oEX3cWuJhE_s"
   },
   "outputs": [],
   "source": [
    "#Reduced HitRate a little, but worth it to reduce multicollinearity"
   ]
  },
  {
   "cell_type": "code",
   "execution_count": null,
   "metadata": {
    "colab": {},
    "colab_type": "code",
    "id": "6uUQTxEIwfNY"
   },
   "outputs": [],
   "source": [
    "def plot_confusion_matrix(cm, classes, title='Confusion matrix CM1', cmap=plt.cm.Purples):\n",
    "\n",
    "    plt.imshow(cm, interpolation='nearest', cmap=cmap)\n",
    "    plt.title(title)\n",
    "    plt.colorbar()\n",
    "    tick_marks = np.arange(len(classes))\n",
    "    plt.xticks(tick_marks, classes, rotation=45)\n",
    "    plt.yticks(tick_marks, classes)\n",
    "\n",
    "    thresh = cm.max() / 2.\n",
    "\n",
    "    plt.tight_layout()\n",
    "    plt.ylabel('True')\n",
    "    plt.xlabel('Predicted')"
   ]
  },
  {
   "cell_type": "code",
   "execution_count": null,
   "metadata": {
    "colab": {},
    "colab_type": "code",
    "id": "9G_2Irb0whS5"
   },
   "outputs": [],
   "source": [
    "plot_confusion_matrix(cm, classes=[\"Confirmed\", \"Unconfirmed\"], cmap=plt.cm.Greys)\n",
    "plt.show()"
   ]
  },
  {
   "cell_type": "code",
   "execution_count": null,
   "metadata": {
    "colab": {},
    "colab_type": "code",
    "id": "k2haevgfrmtQ"
   },
   "outputs": [],
   "source": [
    "\n",
    "estimator = model_final.estimators_[1]\n",
    "\n",
    "#from sklearn.tree import export_graphviz\n",
    "# Export as dot file\n",
    "export_graphviz(estimator, out_file='tree.dot', \n",
    "                feature_names = X_test3.columns,\n",
    "                class_names = ['0','1'],\n",
    "                rounded = True, proportion = False, \n",
    "                precision = 2, filled = True)\n",
    "\n",
    "# Convert to png using system command (requires Graphviz)\n",
    "from subprocess import call\n",
    "call(['dot', '-Tpng', 'tree.dot', '-o', 'tree.png', '-Gdpi=600'])\n",
    "\n",
    "# Display in jupyter notebook\n",
    "from IPython.display import Image\n",
    "Image(filename = 'tree.png')"
   ]
  },
  {
   "cell_type": "code",
   "execution_count": null,
   "metadata": {
    "colab": {},
    "colab_type": "code",
    "id": "l_Nr87W7o1OA"
   },
   "outputs": [],
   "source": []
  },
  {
   "cell_type": "code",
   "execution_count": null,
   "metadata": {
    "colab": {},
    "colab_type": "code",
    "id": "Rm7PGMfdrrC5"
   },
   "outputs": [],
   "source": []
  }
 ],
 "metadata": {
  "colab": {
   "collapsed_sections": [],
   "name": "Planet.ipynb",
   "provenance": [],
   "toc_visible": true
  },
  "kernelspec": {
   "display_name": "Python 3",
   "language": "python",
   "name": "python3"
  },
  "language_info": {
   "codemirror_mode": {
    "name": "ipython",
    "version": 3
   },
   "file_extension": ".py",
   "mimetype": "text/x-python",
   "name": "python",
   "nbconvert_exporter": "python",
   "pygments_lexer": "ipython3",
   "version": "3.6.5"
  }
 },
 "nbformat": 4,
 "nbformat_minor": 1
}
